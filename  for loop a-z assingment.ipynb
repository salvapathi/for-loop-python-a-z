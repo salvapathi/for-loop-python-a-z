{
 "cells": [
  {
   "cell_type": "code",
   "execution_count": 8,
   "id": "248d6c48",
   "metadata": {},
   "outputs": [
    {
     "name": "stdout",
     "output_type": "stream",
     "text": [
      " ***** \n"
     ]
    }
   ],
   "source": [
    "#a\n",
    "n=1\n",
    "while n<=5:\n",
    "    if n==1:\n",
    "        \n",
    "        print(\" ***** \")\n",
    "    n=n+1\n",
    "    \n"
   ]
  },
  {
   "cell_type": "code",
   "execution_count": 14,
   "id": "ba737b4b",
   "metadata": {},
   "outputs": [
    {
     "name": "stdout",
     "output_type": "stream",
     "text": [
      "  * *  \n",
      "*     *\n",
      "*     *  \n",
      " * * *   ** \n"
     ]
    }
   ],
   "source": [
    "#a\n",
    "\n",
    "for a in range(1,5):\n",
    "    if a==1:\n",
    "        print(\"  * *  \")\n",
    "    if a==2:\n",
    "        print(\"*     *\")\n",
    "    if a==3:\n",
    "        print(\"*     *  \")\n",
    "    if a==4:\n",
    "        print(\" * * *   ** \")\n",
    "    if a==5:\n",
    "        print(\"             * * *\")\n",
    "        \n",
    "    "
   ]
  },
  {
   "cell_type": "code",
   "execution_count": 19,
   "id": "51e3ac35",
   "metadata": {},
   "outputs": [
    {
     "name": "stdout",
     "output_type": "stream",
     "text": [
      " *\n",
      " *     \n",
      " *      \n",
      " * * * * *\n",
      " *       *\n",
      " * * * * * \n"
     ]
    }
   ],
   "source": [
    "for a in range(1,7):\n",
    "    if a==1:\n",
    "        print(\" *\")\n",
    "    if a==2:\n",
    "        print(\" *     \")\n",
    "    if a==3:\n",
    "        print(\" *      \")\n",
    "    if a==4:\n",
    "        print(\" * * * * *\")\n",
    "    if a==5:\n",
    "        print(\" *       *\")\n",
    "    if a==6:\n",
    "        print(\" * * * * * \")\n",
    "        "
   ]
  },
  {
   "cell_type": "code",
   "execution_count": 25,
   "id": "433f53ba",
   "metadata": {},
   "outputs": [
    {
     "name": "stdout",
     "output_type": "stream",
     "text": [
      "  * *  \n",
      "*     \n",
      "*       \n",
      " * * *    \n"
     ]
    }
   ],
   "source": [
    "for a in range(1,5):\n",
    "    if a==1:\n",
    "        print(\"  * *  \")\n",
    "    if a==2:\n",
    "        print(\"*     \")\n",
    "    if a==3:\n",
    "        print(\"*       \")\n",
    "    if a==4:\n",
    "        print(\" * * *    \")\n",
    "    if a==5:\n",
    "        print(\"             \")\n",
    "        "
   ]
  },
  {
   "cell_type": "code",
   "execution_count": 20,
   "id": "6f3045b1",
   "metadata": {},
   "outputs": [
    {
     "name": "stdout",
     "output_type": "stream",
     "text": [
      "         *\n",
      "         *     \n",
      "         *      \n",
      " * * * * *\n",
      " *       *\n",
      " * * * * * \n"
     ]
    }
   ],
   "source": [
    "for a in range(1,7):\n",
    "    if a==1:\n",
    "        print(\"         *\")\n",
    "    if a==2:\n",
    "        print(\"         *     \")\n",
    "    if a==3:\n",
    "        print(\"         *      \")\n",
    "    if a==4:\n",
    "        print(\" * * * * *\")\n",
    "    if a==5:\n",
    "        print(\" *       *\")\n",
    "    if a==6:\n",
    "        print(\" * * * * * \")"
   ]
  },
  {
   "cell_type": "code",
   "execution_count": null,
   "id": "5382695e",
   "metadata": {},
   "outputs": [],
   "source": []
  },
  {
   "cell_type": "code",
   "execution_count": 23,
   "id": "f89cc9a2",
   "metadata": {},
   "outputs": [
    {
     "name": "stdout",
     "output_type": "stream",
     "text": [
      "* * * * *\n",
      "*        *\n",
      "* * * * *\n",
      "*\n",
      "* * * * *  \n"
     ]
    }
   ],
   "source": [
    "for a in range(1,8):\n",
    "    if a==1:\n",
    "        print(\"* * * * *\")\n",
    "    if a==2:\n",
    "        print(\"*        *\")\n",
    "    if a==3:\n",
    "        print(\"* * * * *\")\n",
    "    if a==4:\n",
    "        print(\"*\")\n",
    "    if a==5:\n",
    "        print(\"* * * * *  \")"
   ]
  },
  {
   "cell_type": "code",
   "execution_count": 26,
   "id": "8f6db4cf",
   "metadata": {},
   "outputs": [
    {
     "name": "stdout",
     "output_type": "stream",
     "text": [
      " * * * * * *\n",
      " *     \n",
      " *  * * * *     \n",
      " *\n",
      " *       \n",
      " * \n"
     ]
    }
   ],
   "source": [
    "for a in range(1,7):\n",
    "    if a==1:\n",
    "        print(\" * * * * * *\")\n",
    "    if a==2:\n",
    "        print(\" *     \")\n",
    "    if a==3:\n",
    "        print(\" *  * * * *     \")\n",
    "    if a==4:\n",
    "        print(\" *\")\n",
    "    if a==5:\n",
    "        print(\" *       \")\n",
    "    if a==6:\n",
    "        print(\" * \")\n",
    "        "
   ]
  },
  {
   "cell_type": "code",
   "execution_count": 29,
   "id": "55919d62",
   "metadata": {},
   "outputs": [
    {
     "name": "stdout",
     "output_type": "stream",
     "text": [
      "* * * * * \n",
      "*            \n",
      "*        * * *\n",
      "* * * * *    *\n",
      "        \n",
      "  \n"
     ]
    }
   ],
   "source": [
    "for a in range(1,9):\n",
    "    if a==1:\n",
    "        print(\"* * * * * \")\n",
    "    if a==2:\n",
    "        print(\"*            \")\n",
    "    if a==3:\n",
    "        print(\"*        * * *\")\n",
    "    if a==4:\n",
    "        print(\"* * * * *    *\")\n",
    "    if a==5:\n",
    "        print(\"        \")\n",
    "    if a==6:\n",
    "        print(\"  \")"
   ]
  },
  {
   "cell_type": "code",
   "execution_count": 30,
   "id": "700efb35",
   "metadata": {},
   "outputs": [
    {
     "name": "stdout",
     "output_type": "stream",
     "text": [
      " *\n",
      " *     \n",
      " *     \n",
      " * * * * *\n",
      " *       *\n",
      " *       * \n"
     ]
    }
   ],
   "source": [
    "for a in range(1,7):\n",
    "    if a==1:\n",
    "        print(\" *\")\n",
    "    if a==2:\n",
    "        print(\" *     \")\n",
    "    if a==3:\n",
    "        print(\" *     \")\n",
    "    if a==4:\n",
    "        print(\" * * * * *\")\n",
    "    if a==5:\n",
    "        print(\" *       *\")\n",
    "    if a==6:\n",
    "        print(\" *       * \")"
   ]
  },
  {
   "cell_type": "code",
   "execution_count": 64,
   "id": "379689af",
   "metadata": {},
   "outputs": [
    {
     "name": "stdout",
     "output_type": "stream",
     "text": [
      "*      *\n",
      " *    *\n",
      "    *  \n",
      "   * *   \n",
      "  *   *  \n",
      " *     *   \n",
      "   * *  \n",
      "   \n"
     ]
    }
   ],
   "source": [
    "\n",
    "for a in range(1,9):\n",
    "    if a==1:\n",
    "        print(\"*      *\")\n",
    "    elif a==2:\n",
    "        print(\" *    *\")\n",
    "    elif a==3:\n",
    "        print(\"    *  \")\n",
    "    elif a==4:\n",
    "        print(\"   * *   \")\n",
    "    elif a==5:\n",
    "        print(\"  *   *  \")\n",
    "    elif a==6:\n",
    "        print(\" *     *   \")\n",
    "    elif a==7:\n",
    "        print(\"   * *  \")\n",
    "    elif a==8:\n",
    "        print(\"   \")\n",
    "    a=a+1"
   ]
  },
  {
   "cell_type": "code",
   "execution_count": 66,
   "id": "974ad317",
   "metadata": {},
   "outputs": [
    {
     "name": "stdout",
     "output_type": "stream",
     "text": [
      "rrrrrrrr  \n",
      "r       \n",
      "rrrrrrrr\n",
      "       r\n",
      "rrrrrrrr\n",
      "\n",
      "\n",
      "\n"
     ]
    }
   ],
   "source": [
    "\n",
    "for a in range(1,9):\n",
    "    if a==1:\n",
    "        print(\"rrrrrrrr  \")\n",
    "    elif a==2:\n",
    "        print(\"r       \")\n",
    "    elif a==3:\n",
    "        print(\"rrrrrrrr\")\n",
    "    elif a==4:\n",
    "        print(\"       r\")\n",
    "    elif a==5:\n",
    "        print(\"rrrrrrrr\")\n",
    "    elif a==6:\n",
    "        print(\"\")\n",
    "    elif a==7:\n",
    "        print(\"\")\n",
    "    elif a==8:\n",
    "        print(\"\")\n",
    "    \n",
    "        "
   ]
  },
  {
   "cell_type": "code",
   "execution_count": 68,
   "id": "6c705afb",
   "metadata": {},
   "outputs": [
    {
     "name": "stdout",
     "output_type": "stream",
     "text": [
      "u           u\n",
      "u           u\n",
      "u           u\n",
      "u           u\n",
      " u         u\n",
      "   u   u     u     \n",
      "              u\n",
      "   \n"
     ]
    }
   ],
   "source": [
    "for a in range(1,9):\n",
    "\n",
    "    if a==1:\n",
    "        print(\"u           u\")\n",
    "    elif a==2:\n",
    "        print(\"u           u\")\n",
    "    elif a==3:\n",
    "        print(\"u           u\")\n",
    "    elif a==4:\n",
    "        print(\"u           u\")\n",
    "    elif a==5:\n",
    "        print(\" u         u\")\n",
    "    elif a==6:\n",
    "        print(\"   u   u     u     \"         )\n",
    "    elif a==7:\n",
    "        print(\"              u\")\n",
    "    elif a==8:\n",
    "        print(\"   \")\n",
    "    \n",
    "   \n"
   ]
  },
  {
   "cell_type": "code",
   "execution_count": 70,
   "id": "9e5b2b70",
   "metadata": {},
   "outputs": [
    {
     "name": "stdout",
     "output_type": "stream",
     "text": [
      "v           v\n",
      " v         v\n",
      "  v       v\n",
      "   v     v\n",
      "    v   v\n",
      "      v   \n"
     ]
    }
   ],
   "source": [
    "for a in range(1,7):\n",
    "\n",
    "    if a==1:\n",
    "        print(\"v           v\")\n",
    "    elif a==2:\n",
    "        print(\" v         v\")\n",
    "    elif a==3:\n",
    "        print(\"  v       v\")        \n",
    "    elif a==4:\n",
    "        print(\"   v     v\")\n",
    "    elif a==5:\n",
    "        print(\"    v   v\")\n",
    "    elif a==6:\n",
    "        print(\"      v   \")"
   ]
  },
  {
   "cell_type": "code",
   "execution_count": 72,
   "id": "1bf4d466",
   "metadata": {},
   "outputs": [
    {
     "name": "stdout",
     "output_type": "stream",
     "text": [
      "w                         w                              \n",
      " w         w   w          w                          \n",
      "  w       w      w       w                      \n",
      "   w     w        w     w                   \n",
      "    w   w          w   w                \n",
      "      w              w      \n"
     ]
    }
   ],
   "source": [
    "\n",
    "for a in range(1,7):\n",
    "    if a==1:\n",
    "        print(\"w                         w                              \")\n",
    "    elif a==2:\n",
    "        print(\" w         w   w          w                          \")\n",
    "    elif a==3:\n",
    "        print(\"  w       w      w       w                      \")        \n",
    "    elif a==4:\n",
    "        print(\"   w     w        w     w                   \")\n",
    "    elif a==5:\n",
    "        print(\"    w   w          w   w                \")\n",
    "    elif a==6:\n",
    "        print(\"      w              w      \")\n",
    "    "
   ]
  },
  {
   "cell_type": "code",
   "execution_count": 74,
   "id": "268e61fa",
   "metadata": {},
   "outputs": [
    {
     "name": "stdout",
     "output_type": "stream",
     "text": [
      "x            x\n",
      "  x        x\n",
      "    x    x\n",
      "       x   \n",
      "    x    x  \n",
      "  x        x    \n",
      "x            x\n"
     ]
    }
   ],
   "source": [
    "for a in range(1,8):\n",
    "\n",
    "    if a==1:\n",
    "        print(\"x            x\")\n",
    "    elif a==2:\n",
    "        print(\"  x        x\")\n",
    "    elif a==3:\n",
    "        print(\"    x    x\")        \n",
    "    elif a==4:\n",
    "        print(\"       x   \"   )\n",
    "    elif a==5:\n",
    "        print(\"    x    x  \")\n",
    "    elif a==6:\n",
    "        print(\"  x        x    \")\n",
    "    elif a==7:\n",
    "        print(\"x            x\")\n",
    "    \n",
    "    \n",
    "   "
   ]
  },
  {
   "cell_type": "code",
   "execution_count": 76,
   "id": "f19d6363",
   "metadata": {},
   "outputs": [
    {
     "name": "stdout",
     "output_type": "stream",
     "text": [
      "x            x\n",
      "  x        x\n",
      "    x    x\n",
      "       x  \n",
      "    x \n",
      "  x\n",
      "x\n"
     ]
    }
   ],
   "source": [
    "for a in range(1,8):\n",
    "\n",
    "    if a==1:\n",
    "        print(\"x            x\")\n",
    "    elif a==2:\n",
    "        print(\"  x        x\")\n",
    "    elif a==3:\n",
    "        print(\"    x    x\")        \n",
    "    elif a==4:\n",
    "        print(\"       x  \")\n",
    "    elif a==5:\n",
    "        print(\"    x \")   \n",
    "    elif a==6:\n",
    "        print(\"  x\")      \n",
    "    elif a==7:\n",
    "        print(\"x\")         \n",
    "    \n",
    "   "
   ]
  },
  {
   "cell_type": "code",
   "execution_count": 79,
   "id": "9c0b3a14",
   "metadata": {},
   "outputs": [
    {
     "name": "stdout",
     "output_type": "stream",
     "text": [
      "z z z z z z\n",
      "        z\n",
      "      z\n",
      "  z  \n",
      "z z z z z z  \n"
     ]
    }
   ],
   "source": [
    "for a in range(1,6):\n",
    "\n",
    "    if a==1:\n",
    "        print(\"z z z z z z\")\n",
    "    elif a==2:\n",
    "        print(\"        z\")\n",
    "    elif a==3:\n",
    "        print(\"      z\")        \n",
    "    elif a==4: \n",
    "        print(\"  z  \")\n",
    "    elif a==5:\n",
    "        print(\"z z z z z z  \")   \n",
    "    "
   ]
  },
  {
   "cell_type": "code",
   "execution_count": null,
   "id": "89171166",
   "metadata": {},
   "outputs": [],
   "source": []
  }
 ],
 "metadata": {
  "kernelspec": {
   "display_name": "Python 3 (ipykernel)",
   "language": "python",
   "name": "python3"
  },
  "language_info": {
   "codemirror_mode": {
    "name": "ipython",
    "version": 3
   },
   "file_extension": ".py",
   "mimetype": "text/x-python",
   "name": "python",
   "nbconvert_exporter": "python",
   "pygments_lexer": "ipython3",
   "version": "3.9.13"
  }
 },
 "nbformat": 4,
 "nbformat_minor": 5
}
